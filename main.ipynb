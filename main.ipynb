{
 "metadata": {
  "language_info": {
   "codemirror_mode": {
    "name": "ipython",
    "version": 3
   },
   "file_extension": ".py",
   "mimetype": "text/x-python",
   "name": "python",
   "nbconvert_exporter": "python",
   "pygments_lexer": "ipython3",
   "version": "3.8.8-final"
  },
  "orig_nbformat": 2,
  "kernelspec": {
   "name": "python3",
   "display_name": "Python 3.8.8 64-bit",
   "metadata": {
    "interpreter": {
     "hash": "c26fe8c9ecb17faf9dfbae4f264f95943c2292e96bfe4f302575cab7c6aaea22"
    }
   }
  }
 },
 "nbformat": 4,
 "nbformat_minor": 2,
 "cells": [
  {
   "source": [
    "# Prometne nesreče v Sloveniji #\n",
    "\n",
    "## Uvod\n",
    "Za seminarsko nalogo bom analiziral podatke o prometnih nesrečah v Sloveniji za leti 2019 in 2020. Podatke sem pridobil\n",
    "iz spletne strani policija.si (https://www.policija.si/o-slovenski-policiji/statistika/prometna-varnost). Isti podatki so tudi dostopni\n",
    "na spletni strani podatki.gov.si (https://podatki.gov.si/dataset/mnzpprometne-nesrece-od-leta-2009-dalje), vendar manjkajo podatki za leto 2020.\n",
    "\n",
    "\n",
    "## Cilji\n",
    "  * Analiza in vizualizacija podatkov.\n",
    "  * Odgovoriti na vnaprej postavljena vprašanja in na morebitna vprašanja, ki se pojavijo ob reševanju problema.\n",
    "  * Napovedovanje vrednosti alkohola v krvi na podlagi okoliščin nesreče.\n",
    "  \n",
    "  \n",
    "  ### Vprašanja\n",
    "  * Kateri vozniki povzročajo največ nesreč?\n",
    "  * Kakšne okoliščine povzročajo največ nesreč?\n",
    "  * Ali količina alkohola v krvi voznika, vpliva na težavnost poškodbe?\n",
    "  "
   ],
   "cell_type": "markdown",
   "metadata": {}
  },
  {
   "source": [
    "## Branje podatkov ##"
   ],
   "cell_type": "markdown",
   "metadata": {}
  },
  {
   "cell_type": "code",
   "execution_count": 1,
   "metadata": {},
   "outputs": [],
   "source": [
    "#knjužnice\n",
    "\n",
    "import pandas as pd\n",
    "import numpy as np"
   ]
  },
  {
   "cell_type": "code",
   "execution_count": 12,
   "metadata": {},
   "outputs": [],
   "source": [
    "data20 = pd.read_csv(\"Data/pn2020.csv\", \";\", encoding=\"cp1252\")\n",
    "data19 = pd.read_csv(\"Data/pn2019.csv\", \";\", encoding=\"cp1252\")"
   ]
  },
  {
   "cell_type": "code",
   "execution_count": 13,
   "metadata": {},
   "outputs": [
    {
     "output_type": "execute_result",
     "data": {
      "text/plain": [
       "       ZaporednaStevilkaPN      KlasifikacijaNesrece UpravnaEnotaStoritve  \\\n",
       "0                        1        Z MATERIALNO ŠKODO          NOVA GORICA   \n",
       "1                        2  Z LAŽJO TELESNO POŠKODBO       SLOVENJ GRADEC   \n",
       "2                        2  Z LAŽJO TELESNO POŠKODBO       SLOVENJ GRADEC   \n",
       "3                        3        Z MATERIALNO ŠKODO                ŽALEC   \n",
       "4                        3        Z MATERIALNO ŠKODO                ŽALEC   \n",
       "...                    ...                       ...                  ...   \n",
       "26068                14969        Z MATERIALNO ŠKODO    ŠMARJE PRI JELŠAH   \n",
       "26069                14969        Z MATERIALNO ŠKODO    ŠMARJE PRI JELŠAH   \n",
       "26070                14970   S HUDO TELESNO POŠKODBO                CELJE   \n",
       "26071                14971        Z MATERIALNO ŠKODO                IZOLA   \n",
       "26072                14971        Z MATERIALNO ŠKODO                IZOLA   \n",
       "\n",
       "          DatumPN  UraPN VNaselju Lokacija              VrstaCesteNaselja  \\\n",
       "0      20.02.2020  20.15       DA  NASELJE     NASELJE Z ULIÈNIM SISTEMOM   \n",
       "1      02.01.2020  12.45       NE    CESTA     REGIONALNA CESTA III. REDA   \n",
       "2      02.01.2020  12.45       NE    CESTA     REGIONALNA CESTA III. REDA   \n",
       "3      01.01.2020   1.17       NE    CESTA               REGIONALNA CESTA   \n",
       "4      01.01.2020   1.17       NE    CESTA               REGIONALNA CESTA   \n",
       "...           ...    ...      ...      ...                            ...   \n",
       "26068  31.12.2020  15.30       NE    CESTA                  LOKALNA CESTA   \n",
       "26069  31.12.2020  15.30       NE    CESTA                  LOKALNA CESTA   \n",
       "26070  24.12.2020  10.30       DA  NASELJE     NASELJE Z ULIÈNIM SISTEMOM   \n",
       "26071  30.12.2020   2.00       DA  NASELJE  NASELJE BREZ ULIÈNEGA SISTEMA   \n",
       "26072  30.12.2020   2.00       DA  NASELJE  NASELJE BREZ ULIÈNEGA SISTEMA   \n",
       "\n",
       "      SifraCesteNaselja          TekstCesteNaselja  ...    Spol  \\\n",
       "0                 37075                NOVA GORICA  ...  ŽENSKI   \n",
       "1                 00701      RUTA-PESEK-ROGLA-ZEÈE  ...   MOŠKI   \n",
       "2                 00701      RUTA-PESEK-ROGLA-ZEÈE  ...   MOŠKI   \n",
       "3                 00225  MENGEŠ-DUPLICA-ŠENTRUPERT  ...   MOŠKI   \n",
       "4                 00225  MENGEŠ-DUPLICA-ŠENTRUPERT  ...   MOŠKI   \n",
       "...                 ...                        ...  ...     ...   \n",
       "26068             97474  318020 TREBÈE-KR.VRH-JURÈ  ...  ŽENSKI   \n",
       "26069             97474  318020 TREBÈE-KR.VRH-JURÈ  ...  ŽENSKI   \n",
       "26070             03011                      CELJE  ...   MOŠKI   \n",
       "26071             13009                      ŠARED  ...   MOŠKI   \n",
       "26072             13009                      ŠARED  ...   MOŠKI   \n",
       "\n",
       "      UEStalnegaPrebivalisca  Drzavljanstvo      PoskodbaUdelezenca  \\\n",
       "0                NOVA GORICA      SLOVENIJA           BREZ POŠKODBE   \n",
       "1                     LENART      SLOVENIJA           BREZ POŠKODBE   \n",
       "2         SLOVENSKA BISTRICA      SLOVENIJA  LAŽJA TELESNA POŠKODBA   \n",
       "3                    MOZIRJE      SLOVENIJA           BREZ POŠKODBE   \n",
       "4                    MOZIRJE      SLOVENIJA           BREZ POŠKODBE   \n",
       "...                      ...            ...                     ...   \n",
       "26068      ŠMARJE PRI JELŠAH      SLOVENIJA           BREZ POŠKODBE   \n",
       "26069      ŠMARJE PRI JELŠAH      SLOVENIJA           BREZ POŠKODBE   \n",
       "26070                  CELJE      SLOVENIJA   HUDA TELESNA POŠKODBA   \n",
       "26071                  KOPER      SLOVENIJA           BREZ POŠKODBE   \n",
       "26072             RADOVLJICA      SLOVENIJA           BREZ POŠKODBE   \n",
       "\n",
       "                  VrstaUdelezenca UporabaVarnostnegaPasu VozniskiStazVLetih  \\\n",
       "0      VOZNIK OSEBNEGA AVTOMOBILA                NEZNANO                  8   \n",
       "1      VOZNIK OSEBNEGA AVTOMOBILA                     DA                 12   \n",
       "2                           PEŠEC                NEZNANO                  0   \n",
       "3      VOZNIK OSEBNEGA AVTOMOBILA                     DA                 16   \n",
       "4      VOZNIK OSEBNEGA AVTOMOBILA                     DA                 54   \n",
       "...                           ...                    ...                ...   \n",
       "26068  VOZNIK OSEBNEGA AVTOMOBILA                NEZNANO                 37   \n",
       "26069  VOZNIK OSEBNEGA AVTOMOBILA                NEZNANO                 14   \n",
       "26070                     KOLESAR                     NE                  0   \n",
       "26071     VOZNIK TOVORNEGA VOZILA                     DA                  0   \n",
       "26072                      OSTALO                NEZNANO                  0   \n",
       "\n",
       "      VozniskiStazVMesecih VrednostAlkotesta VrednostStrokovnegaPregleda  \n",
       "0                        5               ,00                         ,00  \n",
       "1                        9               ,00                         ,00  \n",
       "2                        0               ,00                         ,00  \n",
       "3                       10               ,00                         ,00  \n",
       "4                       11               ,00                         ,00  \n",
       "...                    ...               ...                         ...  \n",
       "26068                    9               ,00                         ,00  \n",
       "26069                   10               ,00                         ,00  \n",
       "26070                    0               ,00                         ,00  \n",
       "26071                    0               ,00                         ,00  \n",
       "26072                    0               ,00                         ,00  \n",
       "\n",
       "[26073 rows x 35 columns]"
      ],
      "text/html": "<div>\n<style scoped>\n    .dataframe tbody tr th:only-of-type {\n        vertical-align: middle;\n    }\n\n    .dataframe tbody tr th {\n        vertical-align: top;\n    }\n\n    .dataframe thead th {\n        text-align: right;\n    }\n</style>\n<table border=\"1\" class=\"dataframe\">\n  <thead>\n    <tr style=\"text-align: right;\">\n      <th></th>\n      <th>ZaporednaStevilkaPN</th>\n      <th>KlasifikacijaNesrece</th>\n      <th>UpravnaEnotaStoritve</th>\n      <th>DatumPN</th>\n      <th>UraPN</th>\n      <th>VNaselju</th>\n      <th>Lokacija</th>\n      <th>VrstaCesteNaselja</th>\n      <th>SifraCesteNaselja</th>\n      <th>TekstCesteNaselja</th>\n      <th>...</th>\n      <th>Spol</th>\n      <th>UEStalnegaPrebivalisca</th>\n      <th>Drzavljanstvo</th>\n      <th>PoskodbaUdelezenca</th>\n      <th>VrstaUdelezenca</th>\n      <th>UporabaVarnostnegaPasu</th>\n      <th>VozniskiStazVLetih</th>\n      <th>VozniskiStazVMesecih</th>\n      <th>VrednostAlkotesta</th>\n      <th>VrednostStrokovnegaPregleda</th>\n    </tr>\n  </thead>\n  <tbody>\n    <tr>\n      <th>0</th>\n      <td>1</td>\n      <td>Z MATERIALNO ŠKODO</td>\n      <td>NOVA GORICA</td>\n      <td>20.02.2020</td>\n      <td>20.15</td>\n      <td>DA</td>\n      <td>NASELJE</td>\n      <td>NASELJE Z ULIÈNIM SISTEMOM</td>\n      <td>37075</td>\n      <td>NOVA GORICA</td>\n      <td>...</td>\n      <td>ŽENSKI</td>\n      <td>NOVA GORICA</td>\n      <td>SLOVENIJA</td>\n      <td>BREZ POŠKODBE</td>\n      <td>VOZNIK OSEBNEGA AVTOMOBILA</td>\n      <td>NEZNANO</td>\n      <td>8</td>\n      <td>5</td>\n      <td>,00</td>\n      <td>,00</td>\n    </tr>\n    <tr>\n      <th>1</th>\n      <td>2</td>\n      <td>Z LAŽJO TELESNO POŠKODBO</td>\n      <td>SLOVENJ GRADEC</td>\n      <td>02.01.2020</td>\n      <td>12.45</td>\n      <td>NE</td>\n      <td>CESTA</td>\n      <td>REGIONALNA CESTA III. REDA</td>\n      <td>00701</td>\n      <td>RUTA-PESEK-ROGLA-ZEÈE</td>\n      <td>...</td>\n      <td>MOŠKI</td>\n      <td>LENART</td>\n      <td>SLOVENIJA</td>\n      <td>BREZ POŠKODBE</td>\n      <td>VOZNIK OSEBNEGA AVTOMOBILA</td>\n      <td>DA</td>\n      <td>12</td>\n      <td>9</td>\n      <td>,00</td>\n      <td>,00</td>\n    </tr>\n    <tr>\n      <th>2</th>\n      <td>2</td>\n      <td>Z LAŽJO TELESNO POŠKODBO</td>\n      <td>SLOVENJ GRADEC</td>\n      <td>02.01.2020</td>\n      <td>12.45</td>\n      <td>NE</td>\n      <td>CESTA</td>\n      <td>REGIONALNA CESTA III. REDA</td>\n      <td>00701</td>\n      <td>RUTA-PESEK-ROGLA-ZEÈE</td>\n      <td>...</td>\n      <td>MOŠKI</td>\n      <td>SLOVENSKA BISTRICA</td>\n      <td>SLOVENIJA</td>\n      <td>LAŽJA TELESNA POŠKODBA</td>\n      <td>PEŠEC</td>\n      <td>NEZNANO</td>\n      <td>0</td>\n      <td>0</td>\n      <td>,00</td>\n      <td>,00</td>\n    </tr>\n    <tr>\n      <th>3</th>\n      <td>3</td>\n      <td>Z MATERIALNO ŠKODO</td>\n      <td>ŽALEC</td>\n      <td>01.01.2020</td>\n      <td>1.17</td>\n      <td>NE</td>\n      <td>CESTA</td>\n      <td>REGIONALNA CESTA</td>\n      <td>00225</td>\n      <td>MENGEŠ-DUPLICA-ŠENTRUPERT</td>\n      <td>...</td>\n      <td>MOŠKI</td>\n      <td>MOZIRJE</td>\n      <td>SLOVENIJA</td>\n      <td>BREZ POŠKODBE</td>\n      <td>VOZNIK OSEBNEGA AVTOMOBILA</td>\n      <td>DA</td>\n      <td>16</td>\n      <td>10</td>\n      <td>,00</td>\n      <td>,00</td>\n    </tr>\n    <tr>\n      <th>4</th>\n      <td>3</td>\n      <td>Z MATERIALNO ŠKODO</td>\n      <td>ŽALEC</td>\n      <td>01.01.2020</td>\n      <td>1.17</td>\n      <td>NE</td>\n      <td>CESTA</td>\n      <td>REGIONALNA CESTA</td>\n      <td>00225</td>\n      <td>MENGEŠ-DUPLICA-ŠENTRUPERT</td>\n      <td>...</td>\n      <td>MOŠKI</td>\n      <td>MOZIRJE</td>\n      <td>SLOVENIJA</td>\n      <td>BREZ POŠKODBE</td>\n      <td>VOZNIK OSEBNEGA AVTOMOBILA</td>\n      <td>DA</td>\n      <td>54</td>\n      <td>11</td>\n      <td>,00</td>\n      <td>,00</td>\n    </tr>\n    <tr>\n      <th>...</th>\n      <td>...</td>\n      <td>...</td>\n      <td>...</td>\n      <td>...</td>\n      <td>...</td>\n      <td>...</td>\n      <td>...</td>\n      <td>...</td>\n      <td>...</td>\n      <td>...</td>\n      <td>...</td>\n      <td>...</td>\n      <td>...</td>\n      <td>...</td>\n      <td>...</td>\n      <td>...</td>\n      <td>...</td>\n      <td>...</td>\n      <td>...</td>\n      <td>...</td>\n      <td>...</td>\n    </tr>\n    <tr>\n      <th>26068</th>\n      <td>14969</td>\n      <td>Z MATERIALNO ŠKODO</td>\n      <td>ŠMARJE PRI JELŠAH</td>\n      <td>31.12.2020</td>\n      <td>15.30</td>\n      <td>NE</td>\n      <td>CESTA</td>\n      <td>LOKALNA CESTA</td>\n      <td>97474</td>\n      <td>318020 TREBÈE-KR.VRH-JURÈ</td>\n      <td>...</td>\n      <td>ŽENSKI</td>\n      <td>ŠMARJE PRI JELŠAH</td>\n      <td>SLOVENIJA</td>\n      <td>BREZ POŠKODBE</td>\n      <td>VOZNIK OSEBNEGA AVTOMOBILA</td>\n      <td>NEZNANO</td>\n      <td>37</td>\n      <td>9</td>\n      <td>,00</td>\n      <td>,00</td>\n    </tr>\n    <tr>\n      <th>26069</th>\n      <td>14969</td>\n      <td>Z MATERIALNO ŠKODO</td>\n      <td>ŠMARJE PRI JELŠAH</td>\n      <td>31.12.2020</td>\n      <td>15.30</td>\n      <td>NE</td>\n      <td>CESTA</td>\n      <td>LOKALNA CESTA</td>\n      <td>97474</td>\n      <td>318020 TREBÈE-KR.VRH-JURÈ</td>\n      <td>...</td>\n      <td>ŽENSKI</td>\n      <td>ŠMARJE PRI JELŠAH</td>\n      <td>SLOVENIJA</td>\n      <td>BREZ POŠKODBE</td>\n      <td>VOZNIK OSEBNEGA AVTOMOBILA</td>\n      <td>NEZNANO</td>\n      <td>14</td>\n      <td>10</td>\n      <td>,00</td>\n      <td>,00</td>\n    </tr>\n    <tr>\n      <th>26070</th>\n      <td>14970</td>\n      <td>S HUDO TELESNO POŠKODBO</td>\n      <td>CELJE</td>\n      <td>24.12.2020</td>\n      <td>10.30</td>\n      <td>DA</td>\n      <td>NASELJE</td>\n      <td>NASELJE Z ULIÈNIM SISTEMOM</td>\n      <td>03011</td>\n      <td>CELJE</td>\n      <td>...</td>\n      <td>MOŠKI</td>\n      <td>CELJE</td>\n      <td>SLOVENIJA</td>\n      <td>HUDA TELESNA POŠKODBA</td>\n      <td>KOLESAR</td>\n      <td>NE</td>\n      <td>0</td>\n      <td>0</td>\n      <td>,00</td>\n      <td>,00</td>\n    </tr>\n    <tr>\n      <th>26071</th>\n      <td>14971</td>\n      <td>Z MATERIALNO ŠKODO</td>\n      <td>IZOLA</td>\n      <td>30.12.2020</td>\n      <td>2.00</td>\n      <td>DA</td>\n      <td>NASELJE</td>\n      <td>NASELJE BREZ ULIÈNEGA SISTEMA</td>\n      <td>13009</td>\n      <td>ŠARED</td>\n      <td>...</td>\n      <td>MOŠKI</td>\n      <td>KOPER</td>\n      <td>SLOVENIJA</td>\n      <td>BREZ POŠKODBE</td>\n      <td>VOZNIK TOVORNEGA VOZILA</td>\n      <td>DA</td>\n      <td>0</td>\n      <td>0</td>\n      <td>,00</td>\n      <td>,00</td>\n    </tr>\n    <tr>\n      <th>26072</th>\n      <td>14971</td>\n      <td>Z MATERIALNO ŠKODO</td>\n      <td>IZOLA</td>\n      <td>30.12.2020</td>\n      <td>2.00</td>\n      <td>DA</td>\n      <td>NASELJE</td>\n      <td>NASELJE BREZ ULIÈNEGA SISTEMA</td>\n      <td>13009</td>\n      <td>ŠARED</td>\n      <td>...</td>\n      <td>MOŠKI</td>\n      <td>RADOVLJICA</td>\n      <td>SLOVENIJA</td>\n      <td>BREZ POŠKODBE</td>\n      <td>OSTALO</td>\n      <td>NEZNANO</td>\n      <td>0</td>\n      <td>0</td>\n      <td>,00</td>\n      <td>,00</td>\n    </tr>\n  </tbody>\n</table>\n<p>26073 rows × 35 columns</p>\n</div>"
     },
     "metadata": {},
     "execution_count": 13
    }
   ],
   "source": [
    "data20"
   ]
  },
  {
   "cell_type": "code",
   "execution_count": null,
   "metadata": {},
   "outputs": [],
   "source": []
  }
 ]
}