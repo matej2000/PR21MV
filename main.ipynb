{
 "metadata": {
  "language_info": {
   "codemirror_mode": {
    "name": "ipython",
    "version": 3
   },
   "file_extension": ".py",
   "mimetype": "text/x-python",
   "name": "python",
   "nbconvert_exporter": "python",
   "pygments_lexer": "ipython3",
   "version": "3.8.8-final"
  },
  "orig_nbformat": 2,
  "kernelspec": {
   "name": "python3",
   "display_name": "Python 3.8.8 64-bit",
   "metadata": {
    "interpreter": {
     "hash": "c26fe8c9ecb17faf9dfbae4f264f95943c2292e96bfe4f302575cab7c6aaea22"
    }
   }
  }
 },
 "nbformat": 4,
 "nbformat_minor": 2,
 "cells": [
  {
   "source": [
    "# Prometne nesreče v Sloveniji #\n",
    "\n",
    "## Uvod\n",
    "Za seminarsko nalogo bom analiziral podatke o prometnih nesrečah v Sloveniji za leti 2019 in 2020. Podatke sem pridobil\n",
    "iz spletne strani policija.si (https://www.policija.si/o-slovenski-policiji/statistika/prometna-varnost). Isti podatki so tudi dostopni\n",
    "na spletni strani podatki.gov.si (https://podatki.gov.si/dataset/mnzpprometne-nesrece-od-leta-2009-dalje), vendar manjkajo podatki za leto 2020.\n",
    "\n",
    "\n",
    "## Cilji\n",
    "  * Analiza in vizualizacija podatkov.\n",
    "  * Odgovoriti na vnaprej postavljena vprašanja in na morebitna vprašanja, ki se pojavijo ob reševanju problema.\n",
    "  * Napovedovanje vrednosti alkohola v krvi na podlagi okoliščin nesreče.\n",
    "  \n",
    "  \n",
    "  ### Vprašanja\n",
    "  * Kateri vozniki povzročajo največ nesreč?\n",
    "  * Kakšne okoliščine povzročajo največ nesreč?\n",
    "  * Ali količina alkohola v krvi voznika, vpliva na težavnost poškodbe?\n",
    "  "
   ],
   "cell_type": "markdown",
   "metadata": {}
  },
  {
   "source": [
    "## Branje podatkov ##"
   ],
   "cell_type": "markdown",
   "metadata": {}
  },
  {
   "cell_type": "code",
   "execution_count": 1,
   "metadata": {},
   "outputs": [],
   "source": [
    "#knjužnice\n",
    "\n",
    "import pandas as pd\n",
    "import numpy as np\n",
    "import matplotlib.pyplot as plt\n",
    "from datetime import datetime"
   ]
  },
  {
   "cell_type": "code",
   "execution_count": 2,
   "metadata": {},
   "outputs": [],
   "source": [
    "data20 = pd.read_csv(\"Data/pn2020.csv\", \";\", encoding=\"cp1252\", decimal=\",\")\n",
    "data19 = pd.read_csv(\"Data/pn2019.csv\", \";\", encoding=\"cp1252\", decimal=\",\")"
   ]
  },
  {
   "source": [
    "## Priprava podatkov ##"
   ],
   "cell_type": "markdown",
   "metadata": {}
  },
  {
   "source": [
    "Vse vrsice z mankajočimi vrednostmi odstranimo iz podatkov."
   ],
   "cell_type": "markdown",
   "metadata": {}
  },
  {
   "cell_type": "code",
   "execution_count": 3,
   "metadata": {},
   "outputs": [],
   "source": [
    "data20 = data20.dropna()\n",
    "data19 = data19.dropna()"
   ]
  },
  {
   "source": [
    "Združimo polji vrednost alkotesta in vrednost strokovnega pregleda. Enote je potrebno vskladiti"
   ],
   "cell_type": "markdown",
   "metadata": {}
  },
  {
   "cell_type": "code",
   "execution_count": 28,
   "metadata": {
    "tags": []
   },
   "outputs": [],
   "source": [
    "# 4 nivoji\n",
    "alc = []\n",
    "for a, b in zip(data20[\"VrednostAlkotesta\"], data20[\"VrednostStrokovnegaPregleda\"]):\n",
    "    if a > 0.8 or b > 0.38:\n",
    "        alc.append(3)\n",
    "        continue\n",
    "    elif ((a <= 0.8 and a > 0.5) or (b <= 0.38 and  b > 0.24)):\n",
    "        alc.append(2)\n",
    "        continue\n",
    "    elif ((a <= 0.5 and a > 0.3) or (b <= 0.24 and  b > 0.14)):\n",
    "        alc.append(1)\n",
    "        continue\n",
    "    else:\n",
    "        alc.append(0)\n",
    "data20[\"stopnjaAlkohola\"] = alc\n",
    "\n",
    "alc = []\n",
    "for a, b in zip(data19[\"VrednostAlkotesta\"], data19[\"VrednostStrokovnegaPregleda\"]):\n",
    "    if a > 0.8 or b > 0.38:\n",
    "        alc.append(3)\n",
    "        continue\n",
    "    elif ((a <= 0.8 and a > 0.5) or (b <= 0.38 and  b > 0.24)):\n",
    "        alc.append(2)\n",
    "        continue\n",
    "    elif ((a <= 0.5 and a > 0.3) or (b <= 0.24 and  b > 0.14)):\n",
    "        alc.append(1)\n",
    "        continue\n",
    "    else:\n",
    "        alc.append(0)\n",
    "data19[\"stopnjaAlkohola\"] = alc"
   ]
  },
  {
   "source": [
    "## Analiza ##"
   ],
   "cell_type": "markdown",
   "metadata": {}
  },
  {
   "cell_type": "code",
   "execution_count": 6,
   "metadata": {},
   "outputs": [
    {
     "output_type": "execute_result",
     "data": {
      "text/plain": [
       "'08.01.2019'"
      ]
     },
     "metadata": {},
     "execution_count": 6
    }
   ],
   "source": [
    "data19[\"DatumPN\"][0]"
   ]
  },
  {
   "cell_type": "code",
   "execution_count": 7,
   "metadata": {},
   "outputs": [],
   "source": [
    "#datetime.strptime(data19[\"DatumPN\"][0], \"%d.%m.%Y\")"
   ]
  },
  {
   "cell_type": "code",
   "execution_count": 8,
   "metadata": {},
   "outputs": [],
   "source": [
    "#plt.plot(data19[\"DatumPN\"])"
   ]
  }
 ]
}