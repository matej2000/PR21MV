{
 "metadata": {
  "language_info": {
   "codemirror_mode": {
    "name": "ipython",
    "version": 3
   },
   "file_extension": ".py",
   "mimetype": "text/x-python",
   "name": "python",
   "nbconvert_exporter": "python",
   "pygments_lexer": "ipython3",
   "version": 3
  },
  "orig_nbformat": 2
 },
 "nbformat": 4,
 "nbformat_minor": 2,
 "cells": [
  {
   "source": [
    "# Prometne nesreče v Sloveniji #\n",
    "\n",
    "## Uvod\n",
    "Za seminarsko nalogo bom analiziral podatke o prometnih nesrečah v Sloveniji za leti 2019 in 2020. Podatke sem pridobil\n",
    "iz spletne strani policija.si (https://www.policija.si/o-slovenski-policiji/statistika/prometna-varnost). Isti podatki so tudi dostopni\n",
    "na spletni strani podatki.gov.si (https://podatki.gov.si/dataset/mnzpprometne-nesrece-od-leta-2009-dalje), vendar manjkajo podatki za leto 2020.\n",
    "\n",
    "\n",
    "## Cilji\n",
    "  * Analiza in vizualizacija podatkov.\n",
    "  * Odgovoriti na vnaprej postavljena vprašanja in na morebitna vprašanja, ki se pojavijo ob reševanju problema.\n",
    "  * Napovedovanje klasifikacije nesreče.\n",
    "  \n",
    "  \n",
    "  ### Vprašanja\n",
    "  * Kateri vozniki povzročajo največ nesreč?\n",
    "  * Kakšne okoliščine povzročajo največ nesreč?\n",
    "  * Ali količina alkohola v krvi voznika, vpliva na težavnost poškodbe?\n",
    "  "
   ],
   "cell_type": "markdown",
   "metadata": {}
  },
  {
   "source": [
    "## Branje in priprav podatkov"
   ],
   "cell_type": "markdown",
   "metadata": {}
  },
  {
   "source": [
    "## Primerjava let"
   ],
   "cell_type": "markdown",
   "metadata": {}
  },
  {
   "source": [
    "## Kateri vozniki povzročijo največ nesreč?"
   ],
   "cell_type": "markdown",
   "metadata": {}
  },
  {
   "source": [
    "## Kakšne okoliščine povzročajo največ nesreč?"
   ],
   "cell_type": "markdown",
   "metadata": {}
  },
  {
   "source": [
    "## Ali količina alkohola v krvi voznika, vpliva na težavnost poškodbe?"
   ],
   "cell_type": "markdown",
   "metadata": {}
  },
  {
   "source": [
    "## Napovedovanje klasifikacije nesreče"
   ],
   "cell_type": "markdown",
   "metadata": {}
  }
 ]
}