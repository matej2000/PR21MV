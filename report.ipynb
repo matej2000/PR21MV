{
 "metadata": {
  "language_info": {
   "codemirror_mode": {
    "name": "ipython",
    "version": 3
   },
   "file_extension": ".py",
   "mimetype": "text/x-python",
   "name": "python",
   "nbconvert_exporter": "python",
   "pygments_lexer": "ipython3",
   "version": 3
  },
  "orig_nbformat": 2
 },
 "nbformat": 4,
 "nbformat_minor": 2,
 "cells": [
  {
   "source": [
    "# Prometne nesreče v Sloveniji #\n",
    "\n",
    "## Avtor\n",
    "Matej Vatovec\n",
    "## Uvod\n",
    "Za seminarsko nalogo sem analiziral podatke o prometnih nesrečah v Sloveniji za leti 2019 in 2020. Podatke sem pridobil\n",
    "iz spletne strani policija.si (https://www.policija.si/o-slovenski-policiji/statistika/prometna-varnost). Isti podatki so tudi dostopni\n",
    "na spletni strani podatki.gov.si (https://podatki.gov.si/dataset/mnzpprometne-nesrece-od-leta-2009-dalje), vendar manjkajo podatki za leto 2020.\n",
    "\n",
    "\n",
    "## Zastavljeni cilji\n",
    "  * Analiza in vizualizacija podatkov.\n",
    "  * Odgovoriti na vnaprej postavljena vprašanja in na morebitna vprašanja, ki se pojavijo ob reševanju problema.\n",
    "  * Napovedovanje klasifikacije nesreče.\n",
    "  \n",
    "  \n",
    "  ### Vprašanja\n",
    "  * Kateri vozniki povzročajo največ nesreč?\n",
    "  * Kakšne okoliščine povzročajo največ nesreč?\n",
    "  * Ali količina alkohola v krvi voznika, vpliva na težavnost poškodbe?\n",
    "\n",
    "# Podatki\n",
    "\n",
    "Podatki so podani v 2 datotekah tipa csv. Datoteki obsegata ena 33896 in druga 26074 vrstic, kjer vsaka vrstica predstavlja eno nesrečo. Atributi:\n",
    "\n",
    "* Številka za štetje in ločevanje posamezne prometne nesreče,\n",
    "* klasifikacija nesreče glede na posledice (Izračuna se avtomatično glede na najhujšo posledico pri udeležencih v prometni nesreči),\n",
    "* upravna enota, na območju katere se je zgodila prometna nesreča,\n",
    "* datum nesreče (format: dd.mm.llll),\n",
    "* ura nesreče (format: hh) ,\n",
    "* indikator ali se je nesreča zgodila v naselju (D) ali izven (N),\n",
    "* lokacija nesreče,\n",
    "* vrsta ceste ali naselja na kateri je prišlo do nesreče,\n",
    "* oznaka ceste ali šifra naselja kjer je prišlo do nesreče,\n",
    "* tekst ceste ali naselja, kjer je prišlo do nesreče,\n",
    "* oznaka odseka ceste ali šifra ulice, kjer je prišlo do nesreče,\n",
    "* tekst odseka ali ulice, kjer je prišlo do nesreče,\n",
    "* točna stacionaža ali hišna številka, kjer je prišlo do nesreče,\n",
    "* opis prizorišča nesreče,\n",
    "* glavni vzrok nesreče,\n",
    "* tip nesreče,\n",
    "* vremenske okoliščine v času nesreče,\n",
    "* stanje prometa v času nesreče,\n",
    "* stanje vozišča v času nesreče,\n",
    "* stanje površine vozišča v času nesreče,\n",
    "* Geo Koordinata X (Gauß-Krüger-jev koordinatni sistem),\n",
    "* Geo Koordinata Y (Gauß-Krüger-jev koordinatni sistem),\n",
    "* številka za štetje in ločevanje oseb, udeleženih v prometnih nesrečah,\n",
    "* kot kaj nastopa oseba v prometni nesreči,\n",
    "* starost osebe (LL),\n",
    "* spol,\n",
    "* upravna enota stalnega prebivališča,\n",
    "* državljanstvo osebe,\n",
    "* poškodba osebe,\n",
    "* vrsta udeleženca v prometu,\n",
    "* ali je oseba uporabljala varnostni pas ali čelado (polje se interpretira v odvisnosti od vrste udeleženca) (Da/Ne),\n",
    "* vozniški staž osebe za kategorijo, ki jo potrebuje glede na vrsto udeleženca v prometu (LL),\n",
    "* vozniški staž osebe za kategorijo, ki jo potrebuje glede na vrsto udeleženca v prometu (MM),\n",
    "* vrednost alkotesta za osebo, če je bil opravljen (n.nn v enoti mg alkohola/liter izdihanega zraka (mg/l)),\n",
    "* vrednost strokovnega pregleda za osebo, če je bil odrejen in so rezultati že znani (n.nn v enoti g alkohola/kg krvi (g/kg)).\n",
    "  "
   ],
   "cell_type": "markdown",
   "metadata": {}
  },
  {
   "source": [
    "## Priprav podatkov\n",
    "\n",
    "V obeh datotekah je nekaj mankojočih podatkov. Ker je podatkov veliko, sem se odločil, da vrstice z mankajočimi podatki odstranim. Podatki vsebujejo dva podobna atributa vrednost alkotest in vrednost strokovnega pregleda. Nekateri primeri imajo samo eno ali drugo mero, nekateri pa obe. Za lažjo analizo sem podatkom dodal še en atribut, ki vpošteva obe meri. To je stopnja vinjenosti [0-3]:\n",
    "\n",
    "<table>\n",
    "<tr><th>3 -</th><td>vec kot 0,8 g/kg ali 0,38 mg/l</td></tr>\n",
    "<tr><th>2 -</th><td>med 0,8 g/kg ali 0,38 mg/l in 0,5 g/kg ali 0,24 mg/l</td></tr>\n",
    "<tr><th>1 -</th><td>med 0,5 g/kg ali 0,24 mg/l in 0,3 g/kg ali 0,14 mg/l</td></tr>\n",
    "<tr><th>0 -</th><td>manj kot 0,3 g/kg ali 0,14 mg/l</td></tr>\n",
    "</table>\n",
    "\n",
    "Meje so določene na podlagi posledice vpliva različnih količin alkohola v krvi (https://www.avp-rs.si/preventiva/svetovalnica/vozniki/)."
   ],
   "cell_type": "markdown",
   "metadata": {}
  },
  {
   "source": [
    "## Primerjava let"
   ],
   "cell_type": "markdown",
   "metadata": {}
  },
  {
   "source": [
    "![Primerjava let](Slike/PrimerjavaLet.png \"Primerjava let\")\n",
    "<br>\n",
    "V letu 2020 lahko opazimo 2 večja odstopanja, to je začetek marca in zacetek oktobra. Ti dve odstopanji se ujemata z časovnicami uveljavitve strožjih ukrepov za preprečitev širejenja koronavirusa. Zaradi omejitev gibanja, ter drugih okrepov se je posledično zmanjšal promet in število nesreč. V letu 2019 so podatki veliko bolj enakomerno porazdeljeni. Nahajata se le dva manjša vrha, prvi se ujema z začetkom poletnih počitnic (jumij), drugi pa s pričetkom šole (september)."
   ],
   "cell_type": "markdown",
   "metadata": {}
  },
  {
   "source": [
    "![Porazdelitev let](Slike/PorazdelitevLet.png \"Porazdelitev let\")"
   ],
   "cell_type": "markdown",
   "metadata": {}
  },
  {
   "source": [
    "Grafa prikazujeta porazdelitev števila nesreč na posamezen dan. Porazdeljujeta se dokaj normalno. Iz prejšnje ugotovitve lahko sklepamo, da bo leto 2019 imelo v povprečju na dan več nesreč. Poleg tega lahko vidimo, da nekateri dnevi iz 2019 dosegajo največ 160 nesreč na dan medtem ko iz leta 2020 pa 140."
   ],
   "cell_type": "markdown",
   "metadata": {}
  },
  {
   "source": [
    "## Kateri vozniki povzročijo največ nesreč?"
   ],
   "cell_type": "markdown",
   "metadata": {}
  },
  {
   "source": [
    "![Spol](Slike/SpolVozniki.png \"Spol\")"
   ],
   "cell_type": "markdown",
   "metadata": {}
  },
  {
   "source": [
    "Skoraj enkrat več nesreč več povzročajo moški."
   ],
   "cell_type": "markdown",
   "metadata": {}
  },
  {
   "source": [
    "![Primerjava pozrocitelji in udelezenci](Slike/StarostUP.png \"Primerjava pozrocitelji in udelezenci\")"
   ],
   "cell_type": "markdown",
   "metadata": {}
  },
  {
   "source": [
    "Graf udeležencev se porazdeljuje dokaj normalno. Graf povzročiteljev pa nekoliko drugače. Največ nesreč povzroča predvsem mladih ljudi (okoli 20 let). Kar nakazuje na njihovo neizkušenost v prometu. Z višjo starostjo pa ta številka pada."
   ],
   "cell_type": "markdown",
   "metadata": {}
  },
  {
   "source": [
    "![Klasifikacija nesreč povzročiteljev](Slike/SUPovzrocitelji.png \"Klasifikacija nesreč povzročiteljev\")"
   ],
   "cell_type": "markdown",
   "metadata": {}
  },
  {
   "source": [
    "Iz grafov lahko razberemo, da največ nesreč z materialno škodo in z lažjo telesno poškodbo povzročajo predvsem mladi vozniki (okoli 20). Kar se ujema s prejšnim grafom. Medtem pa za nesreče s hudo telesno poškodbo in s smrtnim izidom to nevelja. Največ takih nesreč povzročajo vozniki zrelih let (okoli 50 let). Kar nakazuje na morebitno padanje telesnih spretnosti."
   ],
   "cell_type": "markdown",
   "metadata": {}
  },
  {
   "source": [
    "### Uporaba varnostnega pasu\n",
    "* Ali uporaba varnostnega pasu vpliva na klasifikacijo nesreče?"
   ],
   "cell_type": "markdown",
   "metadata": {}
  },
  {
   "source": [
    "![Varnostni pas](Slike/VarnostniPas.png \"Varnostni pas\")"
   ],
   "cell_type": "markdown",
   "metadata": {}
  },
  {
   "source": [
    "Iz grafa lahko razeremo, da se pri nesrečah, kjer so ljudje uporabljali varnostni pas manjša stolpca za nesreče s hudo telesno posškodbo in s smrtnim izidom. To trditev sem potrdil z računanjem verjetnosti. \n",
    "\n",
    "<table>\n",
    "<tr><th>Klasifikacija/uporaba varnostnega pasu</th><th>DA</th><th>NE</th></tr>\n",
    "<tr><th>S smrtnim izidom</th><td>0.00508</td><td>0.01447</td></tr>\n",
    "<tr><th>s hudo telesno poškodbo</th><td>0.03706</td><td> 0.09198</td></tr>\n",
    "<tr><th>z lažjo telesno poškodbo</th><td>0.32535</td><td>0.34565</td></tr>\n",
    "</table>\n",
    "\n",
    "(Verjetnosti so izračunane v dokumentu main.ipynb)<br>\n",
    "Odgovor na zgornje vprašanje je torej: Da, uporaba varnostnega pasa vpliva na klasifikacio nesreče. Pri nesrečah kjer so bili uporabljeni varnostni pasovi so verjetnosti za klasifikacije s smrtnim izidom, s hudo telesno poškodbo in z lažjo telesno poškodbo manjše kot pri neuporabi varnostnega pasu. Največji razliki sta pri klasifikaciji s smrtnim izidom in s hudo telesno poškodbo."
   ],
   "cell_type": "markdown",
   "metadata": {}
  },
  {
   "source": [
    "## Kakšne okoliščine povzročajo največ nesreč?"
   ],
   "cell_type": "markdown",
   "metadata": {}
  },
  {
   "source": [
    "![V naselju](Slike/KlasifikacijaNaselje.png \"V naselju\")"
   ],
   "cell_type": "markdown",
   "metadata": {}
  },
  {
   "source": [
    "Iz grafa lahko opazimo, da se v naselju v povprečju zgodi več nesreč z materialno škodo kot pa izven naselja. Obratno pa velja za ostale klasifikacije.\n",
    "\n",
    "<table>\n",
    "<tr><th>Klasifikacija/v naselju</th><th>DA</th><th>NE</th></tr>\n",
    "<tr><th>S smrtnim izidom</th><td>0.00265</td><td>0.01376</td></tr>\n",
    "<tr><th>s hudo telesno poškodbo</th><td>0.03797</td><td> 0.05297</td></tr>\n",
    "<tr><th>z lažjo telesno poškodbo</th><td>0.30318</td><td>0.34460</td></tr>\n",
    "</table>\n",
    "\n",
    "(Verjetnosti so izračunane v dokumentu main.ipynb)<br>\n",
    "Vse predstavljene verjetnosti so manjše v naselju. Najmanjša razlika je pri nesrečah z lažjo telesno poškodbo, le 4,1%. Izven naselja je torej večja verjetnost, da se zgodijo hujše poškodbe. Kar je seveda pričakovano. Izven naselja vozila dosegajo večje hitrosti. Že manjša napaka lahko privede do hujše poškodbe."
   ],
   "cell_type": "markdown",
   "metadata": {}
  },
  {
   "source": [
    "![Ura nesreče](Slike/Ura.png \"Ura nesreče\")"
   ],
   "cell_type": "markdown",
   "metadata": {}
  },
  {
   "source": [
    "Največ nesreč se zgodi okoli 15 ure. Ljudje ob taki uri ponavadi zaključijo delo. Poleg tega je še en vrh okoli 10 ure kateri se ujema s dopoldansko malico."
   ],
   "cell_type": "markdown",
   "metadata": {}
  },
  {
   "source": [
    "![Heat map](Slike/HeatMap.png \"Heap map\")"
   ],
   "cell_type": "markdown",
   "metadata": {}
  },
  {
   "source": [
    "Graf prikazuje gostoto nesreč po Sloveniji. Večji in bol svetli predeli se ujemajo z večjimi mesti po Sloveniji. Večja mesta imajo več prometa ter posledično več nesreč."
   ],
   "cell_type": "markdown",
   "metadata": {}
  },
  {
   "source": [
    "### Analiza voznikov pod vplivom alkohola"
   ],
   "cell_type": "markdown",
   "metadata": {}
  },
  {
   "source": [
    "![Primerjava ure](Slike/AlkoholUra.png \"Primerjava ure\")"
   ],
   "cell_type": "markdown",
   "metadata": {}
  },
  {
   "source": [
    "Obliki krivulj sta si precej podobni. Razlika je v tem, da je krivulje ljudi pod vplivom alkohola zamaknjena v levo. To nakazuje, da je njena povprečna vrednost ure bolj pozna. Poleg tega pa se v povprečju zgodi veliko več nesreč povnoči v primerjavi pri treznih ljudeh."
   ],
   "cell_type": "markdown",
   "metadata": {}
  },
  {
   "source": [
    "![Primerjava vztokov](Slike/VzrokAlkohol.png \"Primerjava vzrokov\")"
   ],
   "cell_type": "markdown",
   "metadata": {}
  },
  {
   "source": [
    "Največ nesreč pri obeh primerih povzročijo vozniki osebnega avtomobila. To je seveda pričakovano, kajti teh je tudi največ na cestah. Najbolj nepričakovano je to, da drugih največ nesreč, pri voznikih ki so pod vplivom alkohola, povzročajo kolesarji. Kar navezuje na to, da se ljudje vračajo domov vinjeni od raznih zabav."
   ],
   "cell_type": "markdown",
   "metadata": {}
  },
  {
   "source": [
    "### Analiza dnevo, ki spadajo nad 95% po številu nesreč\n",
    "\n",
    "* Priprava podatkov:\n",
    "    Najprej sem izračunal primerno mejo za 95%, ta je 119. Nato sem izbral dneve, ki so imeli enako ali več kot 119 nesreč. Na konuc sem izbral vrstice, ki se ujemajo s prej izbranimi dnevi."
   ],
   "cell_type": "markdown",
   "metadata": {}
  },
  {
   "source": [
    "![Stanje prometa](Slike/Promet95.png \"Stanje prometa\")\n"
   ],
   "cell_type": "markdown",
   "metadata": {}
  },
  {
   "source": [
    "V obeh primerih prevladuje normalen promet. Pri dnevih nad 95% pa lahko opazimo večji odstotek gostega prometa in nižji odstotek redkega."
   ],
   "cell_type": "markdown",
   "metadata": {}
  },
  {
   "source": [
    "![Vremenske okoliščine](Slike/Vreme.png \"Vremenske okoliščine\")"
   ],
   "cell_type": "markdown",
   "metadata": {}
  },
  {
   "source": [
    "Pri obeh grafih prevladuje jasno vreme, nato pa sledi oblačno vreme. Veliko večji delež nesreč pa se zgodi pri nad 95% ob deževnem vremenu in nekoliko več ob snegu ter megli."
   ],
   "cell_type": "markdown",
   "metadata": {}
  },
  {
   "source": [
    "![Stanje vozišča](Slike/StanjeVozisca95.png \"Stanje vozišča\")"
   ],
   "cell_type": "markdown",
   "metadata": {}
  },
  {
   "source": [
    "Grafa se razlikujeta v povprečju nesreč pri mokrem vozišču. Iz tega lahko sklepamo, da mokro vozišče povzroča več nesreč."
   ],
   "cell_type": "markdown",
   "metadata": {}
  },
  {
   "source": [
    "## Ali količina alkohola v krvi voznika, vpliva na težavnost poškodbe?"
   ],
   "cell_type": "markdown",
   "metadata": {}
  },
  {
   "source": [
    "![Stopnja alkohola](Slike/StopnjaAlkohola.png \"Stopnja alkohola\")"
   ],
   "cell_type": "markdown",
   "metadata": {}
  },
  {
   "source": [
    "Iz grafa lahko razberemo, da je število ljudi, ki so povzročili nesrečo pod vplivom alkohola zelo malo. Od njih pa je največ takih, ki so imeli vec kot 0,8 g/kg ali 0,38 mg/l alkohola."
   ],
   "cell_type": "markdown",
   "metadata": {}
  },
  {
   "source": [
    "![Primerjava klasifikacij](Slike/KlasifikacijaAlkohol.png \"Primerjava klasifikacij\")"
   ],
   "cell_type": "markdown",
   "metadata": {}
  },
  {
   "source": [
    "Iz grafa lahko razberemo, da je v povprečju pri vinjenih voznikih večje število nesreč s smrtnim izidom in s hudo telesno poškodbo. Manj je tudi nesreč z lažjo telesno pošodbo, vendar je ta razlika manjša.\n",
    "<table>\n",
    "<tr><th>Klasifikacija/stopnja alkohola</th><th>0</th><th>>0</th></tr>\n",
    "<tr><th>S smrtnim izidom</th><td>0.00494</td><td>0.02101</td></tr>\n",
    "<tr><th>s hudo telesno poškodbo</th><td>0.03937</td><td>0.09415</td></tr>\n",
    "</table>\n",
    "\n",
    "(Verjetnosti so izračunane v dokumentu main.ipynb)\n",
    "<br>\n",
    "Vsa izračunana povprečja so večja pri voznikih, ki so bili pod vplivom alkohola. Iz tega lahko sklepamo, da vinjeni vozniki v povprečju povzročajo hujše poskodbe kot trezni vozniki."
   ],
   "cell_type": "markdown",
   "metadata": {}
  },
  {
   "source": [
    "## Napovedovanje klasifikacije nesreče"
   ],
   "cell_type": "markdown",
   "metadata": {}
  },
  {
   "source": [
    "### Rezultati napovedovanja v orange."
   ],
   "cell_type": "markdown",
   "metadata": {}
  },
  {
   "source": [
    "<table>\n",
    "<tr><th>Model</th><th>AUC</th><th>CA</th><th>F1</th><th>Precision</th><th>Recall</th></tr>\n",
    "<tr><td>Random Forest</td><td>0.917</td><td>0.872</td><td>0.865</td><td>0.877</td><td>0.872</td></tr>\n",
    "<tr><td>Naive Bayes</td><td>0.906</td><td>0.841</td><td>0.838</td><td>0.845</td><td>0.841</td></tr>\n",
    "<tr><td>kNN</td><td>0.582</td><td>0.600</td><td>0.578</td><td>0.566</td><td>0.600</td></tr>\n",
    "<tr><td>Neural Networkt</td><td>0.500</td><td>0.508</td><td>0.505</td><td>0.506</td><td>0.508</td></tr>\n",
    "</table>\n",
    "\n",
    "Pri napovedovanju so uporabljeni vsi atributi razen opis kraja, šifra ceste naselja, tekst ceste naselja, tekst odseka ulice. Rezultati so dokaj dobri. Najbolje sta napovedovala Random forest in naivni Bayes. Vendar se pri napovedovanju uporablja tudi atribut poskodba udeleženca, katera je odvisna od klasifikacije nesreče."
   ],
   "cell_type": "markdown",
   "metadata": {}
  },
  {
   "source": [
    "<table>\n",
    "<tr><th>Model</th><th>AUC</th><th>CA</th><th>F1</th><th>Precision</th><th>Recall</th></tr>\n",
    "<tr><td>Random Forest</td><td>0.837</td><td>0.751</td><td>0.730</td><td>0.734</td><td>0.751</td></tr>\n",
    "<tr><td>Naive Bayes</td><td>0.815</td><td>0.597</td><td>0.575</td><td>0.563</td><td>0.597</td></tr>\n",
    "<tr><td>kNN</td><td>0.578</td><td>0.5970</td><td>0.575</td><td>0.563</td><td>0.597</td></tr>\n",
    "<tr><td>Neural Networkt</td><td>0.500</td><td>0.573</td><td>0.530</td><td>0.506</td><td>0.573</td></tr>\n",
    "</table>\n",
    "\n",
    "Rezultati brez atributa poškodba udeleženca so pričakovano slabši. Še vedno najoljše napovedujeta Random Forest in naivni Bayes. Vendar sta se njune ocene najbolj poslabšale. Večina za vsaj 10%."
   ],
   "cell_type": "markdown",
   "metadata": {}
  }
 ]
}