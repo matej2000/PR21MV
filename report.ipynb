{
 "metadata": {
  "language_info": {
   "codemirror_mode": {
    "name": "ipython",
    "version": 3
   },
   "file_extension": ".py",
   "mimetype": "text/x-python",
   "name": "python",
   "nbconvert_exporter": "python",
   "pygments_lexer": "ipython3",
   "version": 3
  },
  "orig_nbformat": 2
 },
 "nbformat": 4,
 "nbformat_minor": 2,
 "cells": [
  {
   "source": [
    "# Prometne nesreče v Sloveniji #\n",
    "\n",
    "## Uvod\n",
    "Za seminarsko nalogo bom analiziral podatke o prometnih nesrečah v Sloveniji za leti 2019 in 2020. Podatke sem pridobil\n",
    "iz spletne strani policija.si (https://www.policija.si/o-slovenski-policiji/statistika/prometna-varnost). Isti podatki so tudi dostopni\n",
    "na spletni strani podatki.gov.si (https://podatki.gov.si/dataset/mnzpprometne-nesrece-od-leta-2009-dalje), vendar manjkajo podatki za leto 2020.\n",
    "\n",
    "\n",
    "## Cilji\n",
    "  * Analiza in vizualizacija podatkov.\n",
    "  * Odgovoriti na vnaprej postavljena vprašanja in na morebitna vprašanja, ki se pojavijo ob reševanju problema.\n",
    "  * Napovedovanje klasifikacije nesreče.\n",
    "  \n",
    "  \n",
    "  ### Vprašanja\n",
    "  * Kateri vozniki povzročajo največ nesreč?\n",
    "  * Kakšne okoliščine povzročajo največ nesreč?\n",
    "  * Ali količina alkohola v krvi voznika, vpliva na težavnost poškodbe?\n",
    "  "
   ],
   "cell_type": "markdown",
   "metadata": {}
  },
  {
   "source": [
    "## Branje in priprav podatkov"
   ],
   "cell_type": "markdown",
   "metadata": {}
  },
  {
   "source": [
    "## Primerjava let"
   ],
   "cell_type": "markdown",
   "metadata": {}
  },
  {
   "source": [
    "## Kateri vozniki povzročijo največ nesreč?"
   ],
   "cell_type": "markdown",
   "metadata": {}
  },
  {
   "source": [
    "## Kakšne okoliščine povzročajo največ nesreč?"
   ],
   "cell_type": "markdown",
   "metadata": {}
  },
  {
   "source": [
    "## Ali količina alkohola v krvi voznika, vpliva na težavnost poškodbe?"
   ],
   "cell_type": "markdown",
   "metadata": {}
  },
  {
   "source": [
    "## Napovedovanje klasifikacije nesreče"
   ],
   "cell_type": "markdown",
   "metadata": {}
  },
  {
   "source": [
    "### Rezultati napovedovanja v orange."
   ],
   "cell_type": "markdown",
   "metadata": {}
  },
  {
   "source": [
    "<table>\n",
    "<tr><th>Model</th><th>AUC</th><th>CA</th><th>F1</th><th>Precision</th><th>Recall</th></tr>\n",
    "<tr><td>Random Forest</td><td>0.917</td><td>0.872</td><td>0.865</td><td>0.877</td><td>0.872</td></tr>\n",
    "<tr><td>Naive Bayes</td><td>0.906</td><td>0.841</td><td>0.838</td><td>0.845</td><td>0.841</td></tr>\n",
    "<tr><td>kNN</td><td>0.582</td><td>0.600</td><td>0.578</td><td>0.566</td><td>0.600</td></tr>\n",
    "<tr><td>Neural Networkt</td><td>0.500</td><td>0.508</td><td>0.505</td><td>0.506</td><td>0.508</td></tr>\n",
    "</table>\n",
    "\n",
    "Pri napovedovanju so uporabljeni vsi atributi razen opis kraja, šifra ceste naselja, tekst ceste naselja, tekst odseka ulice. Rezultati so dokaj dobri. Najbolje sta napovedovala Random forest in naivni Bayes. Vendar se pri napovedovanju uporablja tudi atribut poskodba udeleženca, katera je odvisna od klasifikacije nesreče."
   ],
   "cell_type": "markdown",
   "metadata": {}
  },
  {
   "source": [
    "<table>\n",
    "<tr><th>Model</th><th>AUC</th><th>CA</th><th>F1</th><th>Precision</th><th>Recall</th></tr>\n",
    "<tr><td>Random Forest</td><td>0.837</td><td>0.751</td><td>0.730</td><td>0.734</td><td>0.751</td></tr>\n",
    "<tr><td>Naive Bayes</td><td>0.815</td><td>0.597</td><td>0.575</td><td>0.563</td><td>0.597</td></tr>\n",
    "<tr><td>kNN</td><td>0.578</td><td>0.5970</td><td>0.575</td><td>0.563</td><td>0.597</td></tr>\n",
    "<tr><td>Neural Networkt</td><td>0.500</td><td>0.573</td><td>0.530</td><td>0.506</td><td>0.573</td></tr>\n",
    "</table>\n",
    "\n",
    "Rezultati brez atributa poškodba udeleženca so pričakovano slabši. Še vedno najoljše napovedujeta Random Forest in naivni Bayes. Vendar sta se njune ocene najbolj poslabšale. Večina za vsaj 10%."
   ],
   "cell_type": "markdown",
   "metadata": {}
  }
 ]
}